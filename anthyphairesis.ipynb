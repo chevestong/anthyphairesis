{
 "cells": [
  {
   "cell_type": "code",
   "execution_count": null,
   "id": "4cc3a9c8-add7-4d47-a290-0f038cd4041f",
   "metadata": {},
   "outputs": [],
   "source": [
    "from manim import *\n",
    "\n",
    "class Anthyphairesis(Scene):\n",
    "  def construct(self):\n",
    "    unit = Square()\n",
    "    self.add(unit)"
   ]
  }
 ],
 "metadata": {
  "kernelspec": {
   "display_name": "Python 3 (ipykernel)",
   "language": "python",
   "name": "python3"
  },
  "language_info": {
   "codemirror_mode": {
    "name": "ipython",
    "version": 3
   },
   "file_extension": ".py",
   "mimetype": "text/x-python",
   "name": "python",
   "nbconvert_exporter": "python",
   "pygments_lexer": "ipython3",
   "version": "3.10.16"
  }
 },
 "nbformat": 4,
 "nbformat_minor": 5
}
